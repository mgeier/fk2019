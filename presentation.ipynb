{
 "cells": [
  {
   "cell_type": "markdown",
   "metadata": {
    "slideshow": {
     "slide_type": "skip"
    }
   },
   "source": [
    "This [Jupyter notebook](https://jupyter.org/)\n",
    "is meant to be viewed in \"slide mode\".\n",
    "\n",
    "If you want to view the slides locally,\n",
    "you'll need to install [RISE](https://rise.readthedocs.io/).\n",
    "\n",
    "But it's probably simpler so just visit the\n",
    "[online version](https://nbviewer.jupyter.org/format/slides/github/mgeier/fk2019/blob/master/presentation.ipynb)."
   ]
  },
  {
   "cell_type": "markdown",
   "metadata": {
    "slideshow": {
     "slide_type": "slide"
    }
   },
   "source": [
    "# Dynamic 3D Audio Scenes with ASDF + SSR\n",
    "\n",
    "Matthias Geier\n",
    "\n",
    "Forschungskolloquium @ Fachgebiet Audiokommunikation, TU Berlin\n",
    "\n",
    "November 19, 2019\n",
    "\n",
    "https://github.com/mgeier/fk2019"
   ]
  },
  {
   "cell_type": "markdown",
   "metadata": {
    "slideshow": {
     "slide_type": "subslide"
    }
   },
   "source": [
    "## Overview\n",
    "\n",
    "* The SoundScape Renderer (SSR)\n",
    "  * old features\n",
    "  * brand-new features\n",
    "* The Audio Scene Description Format (ASDF)\n",
    "  * work in progress\n",
    "* Future Work, Your Contributions\n",
    "* WFS Demo"
   ]
  },
  {
   "cell_type": "markdown",
   "metadata": {
    "slideshow": {
     "slide_type": "slide"
    }
   },
   "source": [
    "## The SoundScape Renderer (SSR)\n",
    "\n",
    "* real-time spatial audio reproduction\n",
    "* http://spatialaudio.net/ssr\n",
    "* first Open Source release in May 2010\n",
    "* License: GPLv3+\n",
    "* several renderers available\n",
    "  * headphones\n",
    "  * loudspeaker setups (horizontal plane)\n",
    "* implemented in C++\n",
    "* 2D GUI (using Qt5 and OpenGL)\n",
    "* uses JACK Audio Connection Kit (JACK)"
   ]
  },
  {
   "cell_type": "markdown",
   "metadata": {
    "slideshow": {
     "slide_type": "subslide"
    }
   },
   "source": [
    "## On Which Operating Systems?\n",
    "\n",
    "* Linux\n",
    "  * packages are available for many distributions (see next slide)\n",
    "* macOS\n",
    "  * https://bitbucket.org/spatialaudio/ssr/downloads/SoundScapeRenderer-0.5.0.dmg\n",
    "* Windows\n",
    "  * limited functionality (no audio file playback)\n",
    "  * https://github.com/chris-hld/ssr"
   ]
  },
  {
   "cell_type": "markdown",
   "metadata": {
    "slideshow": {
     "slide_type": "subslide"
    }
   },
   "source": [
    "[![Packaging status](https://repology.org/badge/vertical-allrepos/soundscaperenderer.svg)](https://repology.org/project/soundscaperenderer/versions)"
   ]
  },
  {
   "cell_type": "markdown",
   "metadata": {
    "slideshow": {
     "slide_type": "subslide"
    }
   },
   "source": [
    "## Demo\n",
    "\n",
    "* using JACK via `qjackctl`\n",
    "* starting the SSR (binaural)\n",
    "* loading a (static) scene\n",
    "* moving sources, moving the \"reference\"\n",
    "* start/stop/seek (JACK transport)"
   ]
  },
  {
   "cell_type": "markdown",
   "metadata": {
    "slideshow": {
     "slide_type": "slide"
    }
   },
   "source": [
    "## Available Renderers\n",
    "\n",
    "* Binaural Synthesis: `ssr-binaural`\n",
    "* Wave Field Synthesis: `ssr-wfs`\n",
    "* Vector Base Amplitude Panning: `ssr-vbap`\n",
    "* Ambisonics Amplitude Panning: `ssr-aap`\n",
    "* Distance-Coded Ambisonics: `ssr-dca`\n",
    "  * formerly known as Near-field-corrected Higher-Order Ambisonics (NFC-HOA)\n",
    "\n",
    "Renderers without explicit source positions:\n",
    "\n",
    "* Binaural Room Synthesis: `ssr-brs`\n",
    "* Generic Renderer: `ssr-generic`"
   ]
  },
  {
   "cell_type": "markdown",
   "metadata": {
    "slideshow": {
     "slide_type": "subslide"
    }
   },
   "source": [
    "## Demo\n",
    "\n",
    "* loudspeaker setups\n",
    "* Vector-Base Amplitude Panning (VBAP)\n",
    "  * loudspeaker activity\n",
    "* Wave Field Synthesis (WFS)\n",
    "  * focused sources\n",
    "  * point sources vs. plane waves"
   ]
  },
  {
   "cell_type": "markdown",
   "metadata": {
    "slideshow": {
     "slide_type": "slide"
    }
   },
   "source": [
    "## More SSR Features"
   ]
  },
  {
   "cell_type": "markdown",
   "metadata": {
    "slideshow": {
     "slide_type": "subslide"
    }
   },
   "source": [
    "## Network Interface\n",
    "\n",
    "* using TCP/IP sockets\n",
    "* messages are XML snippets\n",
    "  * inspired by ActionScript's `XMLSocket`\n",
    "  * terminating character (by default binary zero `'\\0'`)\n",
    "\n",
    "Example clients:\n",
    "\n",
    "* Android App: https://github.com/SoundScapeRenderer/android-remote\n",
    "  * Video: https://vimeo.com/17159650\n",
    "* Remote for Max for Live: https://github.com/chohner/m4l-SSR-Remote\n",
    "* Puredata Client: https://github.com/SoundScapeRenderer/ssr/tree/master/pd\n",
    "  * Demo"
   ]
  },
  {
   "cell_type": "markdown",
   "metadata": {
    "slideshow": {
     "slide_type": "subslide"
    }
   },
   "source": [
    "## Head Trackers\n",
    "\n",
    "* Razor AHRS: https://github.com/Razor-AHRS/razor-9dof-ahrs\n",
    "* Intersense InertiaCube3\n",
    "* Polhemus Fastrak & Patriot\n",
    "* all trackers supported by VRPN: http://vrpn.org/\n",
    "\n",
    "The network interface can also be used to connect trackers to the SSR.  \n",
    "For an example with multiple trackers, see the \"BoomRoom\" project: https://youtu.be/6RQMOyQ3lyg\n"
   ]
  },
  {
   "cell_type": "markdown",
   "metadata": {
    "slideshow": {
     "slide_type": "slide"
    }
   },
   "source": [
    "## Using the SoundScape Renderer as a Library\n",
    "\n",
    "Until now, we were talking about the stand-alone SSR application that uses the JACK audio backend.\n",
    "\n",
    "But all renderers can also be used as a library in any C++ project, using any audio backend (or none).\n",
    "\n",
    "Only the bare renderers are available; no GUI, no network interface, no scene files, no head trackers.\n",
    "\n",
    "Multi-threading is still available!\n",
    "\n",
    "Examples:\n",
    "\n",
    "* Puredata external: https://github.com/SoundScapeRenderer/ssr/tree/master/flext\n",
    "  * Demo\n",
    "* MEX file for Octave/Matlab: https://github.com/SoundScapeRenderer/ssr/tree/master/mex"
   ]
  },
  {
   "cell_type": "markdown",
   "metadata": {
    "slideshow": {
     "slide_type": "slide"
    }
   },
   "source": [
    "## Brand-New SSR Features\n",
    "\n",
    "* available in the `master` branch on Github (no release yet)\n",
    "  * https://github.com/SoundScapeRenderer/ssr\n",
    "* WebSocket interface, new publish/subscribe mechanism\n",
    "* browser-based 3D GUI prototype\n",
    "  * using WebGL via https://threejs.org\n",
    "  * inspired by https://threejs.org/editor\n",
    "* 3D binaural renderer using SOFA files (https://www.sofaconventions.org/)"
   ]
  },
  {
   "cell_type": "markdown",
   "metadata": {
    "slideshow": {
     "slide_type": "subslide"
    }
   },
   "source": [
    "## Demo\n",
    "\n",
    "* WiFi: *tba*\n",
    "* HTML Test Client\n",
    "  * URL: `?.?.?.?:9422`\n",
    "* 3D GUI\n",
    "  * URL: `?.?.?.?:9422/index.html`"
   ]
  },
  {
   "cell_type": "markdown",
   "metadata": {
    "slideshow": {
     "slide_type": "slide"
    }
   },
   "source": [
    "## The Audio Scene Description Format (ASDF)\n",
    "\n",
    "* previously, only static positions, now sources can move along trajectories\n",
    "* https://AudioSceneDescriptionFormat.readthedocs.io/\n",
    "* implemented in Rust: https://github.com/AudioSceneDescriptionFormat/asdf-rust\n",
    "* heavy use of splines: https://splines.readthedocs.io/\n",
    "* not yet in the SSR, but there is a *pull request*: https://github.com/SoundScapeRenderer/ssr/pull/155\n",
    "* ..."
   ]
  },
  {
   "cell_type": "markdown",
   "metadata": {
    "slideshow": {
     "slide_type": "slide"
    }
   },
   "source": [
    "## Future Work, Your Contributions\n",
    "\n",
    "* a better-looking, feature-rich 3D GUI\n",
    "  * better source objects, source/loudspeaker levels, menus, ...\n",
    "* more 3D renderers\n",
    "  * VBAP is probably the easiest to start with\n",
    "* new loudspeaker setup file format (with 3D support)\n",
    "* \"distributed\" mode, multiple instances (\"leader\"/\"follower\" concept)\n",
    "  * see David Runge's [MA thesis](https://www2.ak.tu-berlin.de/~akgroup/ak_pub/abschlussarbeiten/2017/Runge_MasA.pdf)\n",
    "  * support for \"partial\" loudspeaker setups\n",
    "  * \"pass through\" renderer\n",
    "* more features in dynamic ASDF\n",
    "* creating many dynamic scenes!\n",
    "* ...?"
   ]
  },
  {
   "cell_type": "markdown",
   "metadata": {
    "slideshow": {
     "slide_type": "slide"
    }
   },
   "source": [
    "## WFS Demo\n",
    "\n",
    "* scenes from https://github.com/ssr-scenes"
   ]
  }
 ],
 "metadata": {
  "celltoolbar": "Slideshow",
  "kernelspec": {
   "display_name": "Python 3",
   "language": "python",
   "name": "python3"
  },
  "language_info": {
   "codemirror_mode": {
    "name": "ipython",
    "version": 3
   },
   "file_extension": ".py",
   "mimetype": "text/x-python",
   "name": "python",
   "nbconvert_exporter": "python",
   "pygments_lexer": "ipython3",
   "version": "3.7.5"
  },
  "livereveal": {
   "autolaunch": true
  }
 },
 "nbformat": 4,
 "nbformat_minor": 4
}
