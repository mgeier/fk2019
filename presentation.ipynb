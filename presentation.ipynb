{
 "cells": [
  {
   "cell_type": "markdown",
   "metadata": {
    "slideshow": {
     "slide_type": "skip"
    }
   },
   "source": [
    "This [Jupyter notebook](https://jupyter.org/)\n",
    "is meant to be viewed in \"slide mode\".\n",
    "\n",
    "If you want to view the slides locally,\n",
    "you'll need to install [RISE](https://rise.readthedocs.io/).\n",
    "\n",
    "But it's probably simpler so just visit the\n",
    "[online version](https://nbviewer.jupyter.org/format/slides/github/mgeier/fk2019/blob/master/presentation.ipynb)."
   ]
  },
  {
   "cell_type": "markdown",
   "metadata": {
    "slideshow": {
     "slide_type": "slide"
    }
   },
   "source": [
    "# Dynamic 3D Audio Scenes with ASDF + SSR\n",
    "\n",
    "Matthias Geier\n",
    "\n",
    "Forschungskolloquium @ Fachgebiet Audiokommunikation, TU Berlin\n",
    "\n",
    "November 19, 2019\n",
    "\n",
    "https://github.com/mgeier/fk2019"
   ]
  },
  {
   "cell_type": "markdown",
   "metadata": {
    "slideshow": {
     "slide_type": "slide"
    }
   },
   "source": [
    "## Overview\n",
    "\n",
    "* The SoundScape Renderer (SSR)\n",
    "  * old features\n",
    "  * brand-new features\n",
    "* The Audio Scene Description Format (ASDF)\n",
    "  * work in progress\n",
    "* Future Work, Your Contributions\n",
    "* WFS Demo"
   ]
  },
  {
   "cell_type": "markdown",
   "metadata": {
    "slideshow": {
     "slide_type": "slide"
    }
   },
   "source": [
    "## The SoundScape Renderer (SSR)\n",
    "\n",
    "* real-time spatial audio reproduction\n",
    "* http://spatialaudio.net/ssr\n",
    "* first Open Source release in May 2010\n",
    "* License: GPLv3+\n",
    "* several renderers available\n",
    "  * headphones\n",
    "  * loudspeaker setups (horizontal plane)\n",
    "* implemented in C++\n",
    "* 2D GUI (using Qt5 and OpenGL)\n",
    "* uses JACK Audio Connection Kit (JACK)"
   ]
  },
  {
   "cell_type": "markdown",
   "metadata": {
    "slideshow": {
     "slide_type": "subslide"
    }
   },
   "source": [
    "## On Which Operating Systems?\n",
    "\n",
    "* Linux\n",
    "  * packages are available for many distributions (see next slide)\n",
    "* macOS\n",
    "  * https://bitbucket.org/spatialaudio/ssr/downloads/SoundScapeRenderer-0.5.0.dmg\n",
    "* Windows\n",
    "  * limited functionality (no audio file playback)\n",
    "  * https://github.com/chris-hld/ssr"
   ]
  },
  {
   "cell_type": "markdown",
   "metadata": {
    "slideshow": {
     "slide_type": "subslide"
    }
   },
   "source": [
    "[![Packaging status](https://repology.org/badge/vertical-allrepos/soundscaperenderer.svg)](https://repology.org/project/soundscaperenderer/versions)"
   ]
  },
  {
   "cell_type": "markdown",
   "metadata": {
    "slideshow": {
     "slide_type": "subslide"
    }
   },
   "source": [
    "## Demo\n",
    "\n",
    "* using JACK via `qjackctl`\n",
    "* starting the SSR (binaural)\n",
    "* loading a (static) scene\n",
    "* moving sources, moving the \"reference\"\n",
    "* start/stop/seek (JACK transport)"
   ]
  },
  {
   "cell_type": "markdown",
   "metadata": {
    "slideshow": {
     "slide_type": "slide"
    }
   },
   "source": [
    "## Available Renderers\n",
    "\n",
    "* Binaural Synthesis: `ssr-binaural`\n",
    "* Wave Field Synthesis: `ssr-wfs`\n",
    "* Vector Base Amplitude Panning: `ssr-vbap`\n",
    "* Ambisonics Amplitude Panning: `ssr-aap`\n",
    "* Distance-Coded Ambisonics: `ssr-dca`\n",
    "  * formerly known as Near-field-corrected Higher-Order Ambisonics (NFC-HOA)\n",
    "\n",
    "Renderers without explicit source positions:\n",
    "\n",
    "* Binaural Room Synthesis: `ssr-brs`\n",
    "* Generic Renderer: `ssr-generic`"
   ]
  },
  {
   "cell_type": "markdown",
   "metadata": {
    "slideshow": {
     "slide_type": "subslide"
    }
   },
   "source": [
    "## Demo\n",
    "\n",
    "* loudspeaker setups\n",
    "* Vector-Base Amplitude Panning (VBAP)\n",
    "  * loudspeaker activity\n",
    "* Wave Field Synthesis (WFS)\n",
    "  * focused sources\n",
    "  * point sources vs. plane waves"
   ]
  },
  {
   "cell_type": "markdown",
   "metadata": {
    "slideshow": {
     "slide_type": "slide"
    }
   },
   "source": [
    "## More Features"
   ]
  },
  {
   "cell_type": "markdown",
   "metadata": {
    "slideshow": {
     "slide_type": "subslide"
    }
   },
   "source": [
    "## Head Trackers\n",
    "\n",
    "* ..."
   ]
  },
  {
   "cell_type": "markdown",
   "metadata": {
    "slideshow": {
     "slide_type": "subslide"
    }
   },
   "source": [
    "## Network Interface\n",
    "\n",
    "* ..."
   ]
  },
  {
   "cell_type": "markdown",
   "metadata": {
    "slideshow": {
     "slide_type": "slide"
    }
   },
   "source": [
    "## Using the SoundScape Renderer as a Library\n",
    "\n",
    "Pd external, MEX file, ..."
   ]
  },
  {
   "cell_type": "markdown",
   "metadata": {
    "slideshow": {
     "slide_type": "slide"
    }
   },
   "source": [
    "## Brand-New Features\n",
    "\n",
    "* available in the `master` branch on Github (no release yet)\n",
    "  * https://github.com/SoundScapeRenderer/ssr\n",
    "* WebSocket interface, new publish/subscribe mechanism\n",
    "* browser-based 3D GUI prototype\n",
    "  * using WebGL via https://threejs.org\n",
    "  * inspired by https://threejs.org/editor"
   ]
  },
  {
   "cell_type": "markdown",
   "metadata": {
    "slideshow": {
     "slide_type": "subslide"
    }
   },
   "source": [
    "## Demo\n",
    "\n",
    "* WiFi: *tba*\n",
    "* HTML Test Client\n",
    "  * URL: `?.?.?.?:9422`\n",
    "* 3D GUI\n",
    "  * URL: `?.?.?.?:9422/index.html`"
   ]
  },
  {
   "cell_type": "markdown",
   "metadata": {
    "slideshow": {
     "slide_type": "slide"
    }
   },
   "source": [
    "## The Audio Scene Description Format (ASDF)\n",
    "\n",
    "* previously, only static positions\n",
    "* ..."
   ]
  },
  {
   "cell_type": "markdown",
   "metadata": {
    "slideshow": {
     "slide_type": "slide"
    }
   },
   "source": [
    "## Future Work, Your Contributions\n",
    "\n",
    "* a better-looking, feature-rich 3D GUI\n",
    "* more 3D renderers\n",
    "* new loudspeaker setup file format\n",
    "* \"distributed\" mode (\"leader\"/\"follower\" concept)\n",
    "* more features in dynamic ASDF\n",
    "* creating many dynamic scenes!\n",
    "* ...?"
   ]
  },
  {
   "cell_type": "markdown",
   "metadata": {},
   "source": [
    "## WFS Demo\n",
    "\n",
    "* scenes from https://github.com/ssr-scenes"
   ]
  }
 ],
 "metadata": {
  "celltoolbar": "Slideshow",
  "kernelspec": {
   "display_name": "Python 3",
   "language": "python",
   "name": "python3"
  },
  "language_info": {
   "codemirror_mode": {
    "name": "ipython",
    "version": 3
   },
   "file_extension": ".py",
   "mimetype": "text/x-python",
   "name": "python",
   "nbconvert_exporter": "python",
   "pygments_lexer": "ipython3",
   "version": "3.7.5"
  },
  "livereveal": {
   "autolaunch": true
  }
 },
 "nbformat": 4,
 "nbformat_minor": 4
}
